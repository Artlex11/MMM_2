{
 "cells": [
  {
   "cell_type": "markdown",
   "id": "3ae90ef0",
   "metadata": {},
   "source": [
    " <font size = 5>Лабораторная работа: Поиск безусловного экстремума.</font>\n"
   ]
  },
  {
   "cell_type": "markdown",
   "id": "0351b859",
   "metadata": {},
   "source": [
    "<hr>"
   ]
  },
  {
   "cell_type": "markdown",
   "id": "c63f840e",
   "metadata": {},
   "source": [
    "<font size = 1> Выполнил: студент группы 427\n",
    "Козлов Алексей</font>"
   ]
  },
  {
   "cell_type": "markdown",
   "id": "4a41df5e",
   "metadata": {},
   "source": [
    "<img src = \"var13.jpg\">"
   ]
  },
  {
   "cell_type": "markdown",
   "id": "21d16b5c",
   "metadata": {},
   "source": [
    "<font size = 3>Теоретическая часть</font>"
   ]
  },
  {
   "cell_type": "markdown",
   "id": "a2ef7596",
   "metadata": {},
   "source": [
    "<hr>"
   ]
  },
  {
   "cell_type": "markdown",
   "id": "255843e6",
   "metadata": {},
   "source": [
    "<b>Эврестический алгоритм Свенна нахождения интервала унимодальности</b>"
   ]
  },
  {
   "cell_type": "markdown",
   "id": "82cc07d0",
   "metadata": {},
   "source": [
    "Для выбранной исходной точки $x^0$ и заданного h на основе правила исключения строится относительно широкий интервал, содержащий точку оптиума. Используется эвристический подход, в котором $x^{k+1}$ пробная точка определяется по рекуррентной формуле $$x^{k+1} = x^k + h/2$  $k = 0,1,2...$$ Где: $x^0$ - произвольно выбранная начальная точка, $h$ - шаг поиска, знак которого может меняться на противоположный.\n",
    "Знак $h$ определяется путём сравнения значений $f(x^0)$, $f(x^0+|h|)$ и $f(x^0-|h|)$, то согласно предположения об унимодальности, точка минимума должна располагаться правее точки $x^0$ и величина $h$ выбирается положительной.\\\n",
    "Если $f(x^0-|h|)$ < $f(x^0)$ < $f(x^0+|h|)$, то величину $h$ следует выбирать отрицательной. Если $f(x^0-|h|)$>=$f(x^0)$<=$f(x^0+|h|)$, то точка минимума лежит между $x^0-|h|$ и $x^0+|h|$ и поиск граничных точек звершён, в противном случае изменить начальную точку. Случай, когда $f(x^0-|h|)$ <=$f(x^0)$>=$f(x^0+|h|)$, противоречит предположению унимодальности. Выполнение этого условия говорит о том, что функция в окрестности $x^0$ не является унимодальной и следует изменить начальную точку."
   ]
  },
  {
   "cell_type": "markdown",
   "id": "948b6f08",
   "metadata": {},
   "source": [
    "<b>Метод квадратичной интерполяции</b>"
   ]
  },
  {
   "cell_type": "markdown",
   "id": "d9ed2b7e",
   "metadata": {},
   "source": [
    "Здесь задаются пробные три пробные точки $x^1 = (a+b)/2$, $x^2$ и $x^3$. Для нахождения точки $x^2$ задаётся шаг $h>0$ в положительном направлении от точки $x^1$, т.е. $x^2=x^1+h$ и если\n",
    "$f(x^1)>f(x^2)$, то $x^3 = x^1+2h$, иначе $x^3 = x^1-h$.\n",
    "Вычисляются значения функции в этих точках $f(x^1)$, $f(x^2)$, $f(x^3)$, строится квадратичный интерполяционый многочлен по трем точ-\n",
    "кам и находится его точка минимума по формуле\n",
    "$$x^* = \\frac{1}{2}\\frac{((x^2)^2-(x^3)^2)f(x^1)+((x^3)^2-(x^1)^2)f(x^2)+((x^1)^2-(x^2)^2)f(x^3)}{(x^2-x^3)f(x^1)+(x^3-x^1)f(x^2)+(x^1-x^2)f(x^3)}$$\n",
    "Находится также точка $x_{min} = arg min(f(x^1),f(x^2), f(x^3))$.\n",
    "Если знаменатель в формуле для нахождения минимума квад-\n",
    "ратичного интерполяционного многочлена равен нулю, т.е. все три\n",
    "точки лежат на одной прямой рекомендуется выбрать за $x^1=x_{min}$ и повторить нахождение точки $x^*$.\n",
    "Критерием окончания в этого процесса является выполнение усло-\n",
    "вий для заданного ε:  $$|f(x_{min})-f(x^*)|<ε, |x_{min}-x^*|<ε$$ Если условия окончания не выполняются и $$x^*∈[x^1,x^3]$$\n",
    "точка $x^1$ заменяется на точку $arg min(f(x_{min}), f(x^*))$, в против-\n",
    "ном случае точка $x^1$ заменяется на $x^*$"
   ]
  },
  {
   "cell_type": "markdown",
   "id": "0bb0d221",
   "metadata": {},
   "source": [
    "<b>Метод покоординатного спуска</b>"
   ]
  },
  {
   "cell_type": "markdown",
   "id": "92a68f26",
   "metadata": {},
   "source": [
    "Для построения минимизирующей последовательности используется формула $x^{k+1} = x^k + \\alpha_{k}p^k$. При этом вектор $p^k$ определяется по правилу (циклический покоординатный спуск): \n",
    "$$p^k = e_{k-[k/n]n+1}, k = 0,1,2...,$$// где $t$ - целая часть числа t, $e_j = (0,...,0,1,1,...,0)$ (единица стоит на j-ом месте), $j = 1,...,n$. \n",
    "Число $\\alpha_k∈ (−∞, ∞)$ можно определять, например, следующим способом $${f(x^k+\\alpha_kp^k)=min_{−∞<\\alpha<∞}f(x^k+\\alpha p^k)}$$\n",
    "Метод покоординатного спуска очень прост, но не очень эффективен. Проблемы могут возникнуть, когда линии уровня сильно вытянуты, т.е. для овражных функций. В подобной ситуации поиск быстро застревает на дне такого оврага, а если начальное приближение оказывается на оси \"эллипсоида то процесс так и останется в этой точке. Хорошие результаты получаются в тех случаях, когда целевая функция представляет собой выпуклую функцию."
   ]
  },
  {
   "cell_type": "code",
   "execution_count": 12,
   "id": "605bd924",
   "metadata": {},
   "outputs": [],
   "source": [
    "import numpy as np\n",
    "import matplotlib.pyplot as plt\n",
    "from mpl_toolkits import mplot3d\n",
    "from matplotlib import cm\n",
    "from matplotlib import animation"
   ]
  },
  {
   "cell_type": "code",
   "execution_count": 13,
   "id": "6a1a9415",
   "metadata": {},
   "outputs": [],
   "source": [
    "# задание координат начальной точки\n",
    "x_fix = 1\n",
    "y_fix = -6\n",
    "eps = 0.001\n",
    "h = 0.1"
   ]
  },
  {
   "cell_type": "code",
   "execution_count": 14,
   "id": "b6398480",
   "metadata": {},
   "outputs": [],
   "source": [
    "# задание функции\n",
    "def f(x, y):\n",
    "    return x ** 2 - 2 * x + 2 * y ** 2 - 32 * y + 134.5"
   ]
  },
  {
   "cell_type": "code",
   "execution_count": 15,
   "id": "57968d37",
   "metadata": {},
   "outputs": [],
   "source": [
    "# фиксирование первой или второй координаты\n",
    "def test_f(n, x, y):\n",
    "    if (n == 1):\n",
    "        return x * x - 2 * x + 2 * y_fix * y_fix - 32 * y_fix + 134.5\n",
    "    if (n == 2):\n",
    "        return x_fix * x_fix - 2 * x_fix + 2 * y * y - 32 * y + 134.5"
   ]
  },
  {
   "cell_type": "code",
   "execution_count": 16,
   "id": "ea1d5d88",
   "metadata": {},
   "outputs": [],
   "source": [
    "# алгоритм Свенна\n",
    "def svenn(x0, y0, h):\n",
    "    # фиксация координаты y\n",
    "    ax = test_f(1, x0 - abs(h), y_fix)\n",
    "    bx = test_f(1, x0, y_fix)\n",
    "    cx = test_f(1, x0 + abs(h), y_fix)\n",
    "\n",
    "    # фиксациия координаты x\n",
    "    ay = test_f(2, x_fix, y0 - abs(h))\n",
    "    by = test_f(2, x_fix, y0)\n",
    "    cy = test_f(2, x_fix, y0 + abs(h))\n",
    "\n",
    "    it_x = 0\n",
    "    it_y = 0\n",
    "\n",
    "# координата y - фиксируется\n",
    "    if ax <= bx and bx >= cx:\n",
    "        print('Не унимодальна в окрестности x0,y0')\n",
    "\n",
    "    if ax < bx and bx < cx:\n",
    "        h = -h\n",
    "\n",
    "    while not (ax >= bx and bx <= cx):\n",
    "        it_x += 1\n",
    "        x0 = x0 + h / 2\n",
    "        ax = test_f(1, x0 - abs(h), y_fix)\n",
    "        bx = test_f(1, x0, y_fix)\n",
    "        cx = test_f(1, x0 + abs(h), y_fix)\n",
    "\n",
    "# координата x - фиксируется\n",
    "    if ay <= by and by >= cy:\n",
    "        print('Не унимодальна в окрестности x0,y0')\n",
    "\n",
    "    if ay < by and by < cy:\n",
    "        h = -h\n",
    "\n",
    "    while not (ay >= by and by <= cy):\n",
    "        it_y += 1\n",
    "        y0 = y0 + h / 2\n",
    "        ay = test_f(2, x_fix, y0 - abs(h))\n",
    "        by = test_f(2, x_fix, y0)\n",
    "        cy = test_f(2, x_fix, y0 + abs(h))\n",
    "\n",
    "\n",
    "        left_x = x0 - abs(h)\n",
    "        right_x = x0 + abs(h)\n",
    "\n",
    "        left_y = y0 - abs(h)\n",
    "        right_y = y0 + abs(h)\n",
    "\n",
    "    print(left_x, right_x)\n",
    "    print(left_y, right_y)\n",
    "    print(f'Количество интераций = {it_x}, {it_y}')\n",
    "    return left_x, right_x, left_y, right_y\n"
   ]
  },
  {
   "cell_type": "code",
   "execution_count": 17,
   "id": "69f36a5e",
   "metadata": {},
   "outputs": [],
   "source": [
    "# метод квадратичной интерполяции\n",
    "def kvadr_interpol(h):\n",
    "    left_x, right_x, left_y, right_y = svenn(x_fix, y_fix, h)\n",
    "    x1 = (left_x + right_x) / 2\n",
    "    eps = 0.001\n",
    "    it_x = 0\n",
    "\n",
    "    y1 = (left_y + right_y) / 2\n",
    "    it_y = 0\n",
    "    # минимизация по x\n",
    "    while True:\n",
    "        it_x += 1\n",
    "        x2 = x1 + h\n",
    "        f1_x = test_f(1, x1, y_fix)\n",
    "        f2_x = test_f(1, x2, y_fix)\n",
    "\n",
    "        if f1_x > f2_x:\n",
    "            x3 = x1 + 2 * h\n",
    "        else:\n",
    "            x3 = x1 - h\n",
    "\n",
    "        f3_x = test_f(1, x3, y_fix)\n",
    "        denom_x = (x2 - x3) * f1_x + (x3 - x1) * f2_x + (x1 - x2) * f3_x\n",
    "\n",
    "        if f1_x <= f2_x and f1_x <= f3_x:\n",
    "            xmin = x1\n",
    "        elif f2_x <= f1_x and f2_x <= f3_x:\n",
    "            xmin = x2\n",
    "        else:\n",
    "            xmin = x3\n",
    "\n",
    "        if denom_x == 0:\n",
    "            x1 = xmin\n",
    "            f1_x = test_f(1, x1)\n",
    "        else:\n",
    "            x = 0.5 * ((x2 ** 2 - x3 ** 2) * f1_x + (x3 ** 2 - x1 ** 2) * f2_x + (x1 ** 2 - x2 ** 2) * f3_x) / denom_x\n",
    "            razn1_x = abs(test_f(1, xmin, y_fix) - test_f(1, x, y_fix))\n",
    "            razn2_x = abs(xmin - x)\n",
    "\n",
    "            if razn1_x >= eps or razn2_x >= eps:\n",
    "                if x1 <= x and x3 >= x:\n",
    "                    if test_f(1, xmin) < test_f(1, x):\n",
    "                        x1 = xmin\n",
    "                    else:\n",
    "                        x1 = x\n",
    "                else:\n",
    "                    x1 = x\n",
    "    # минимизация по y\n",
    "    while True:\n",
    "        it_y += 1\n",
    "        y2 = y1 + h\n",
    "        f1_y = test_f(2, x_fix, y1)\n",
    "        f2_y = test_f(2, x_fix, y2)\n",
    "\n",
    "        if f1_y > f2_y:\n",
    "            y3 = y1 + 2 * h\n",
    "        else:\n",
    "            y3 = y1 - h\n",
    "\n",
    "        f3_y = test_f(2, x_fix, y3)\n",
    "        denom_y = (y2 - y3) * f1_y + (y3 - y1) * f2_y + (y1 - y2) * f3_y\n",
    "\n",
    "        if f1_y <= f2_y and f1_y <= f3_y:\n",
    "            ymin = y1\n",
    "        elif f2_y <= f1_y and f2_y <= f3_y:\n",
    "            ymin = y2\n",
    "        else:\n",
    "            ymin = y3\n",
    "\n",
    "        if denom_y == 0:\n",
    "            y1 = ymin\n",
    "            f1_y = test_f(2, y1)\n",
    "        else:\n",
    "            y = 0.5 * ((y2 ** 2 - y3 ** 2) * f1_y + (y3 ** 2 - y1 ** 2) * f2_y + (y1 ** 2 - y2 ** 2) * f3_y) / denom_y\n",
    "            razn1_y = abs(test_f(2, ymin) - test_f(2, y))\n",
    "            razn2_y = abs(ymin - y)\n",
    "\n",
    "            if razn1_y >= eps or razn2_y >= eps:\n",
    "                if y1 <= y and y3 >= y:\n",
    "                    if test_f(2, ymin) < test_f(2, y):\n",
    "                        y1 = ymin\n",
    "                    else:\n",
    "                        y1 = y\n",
    "                else:\n",
    "                    y1 = y\n",
    "    return x1, y1"
   ]
  },
  {
   "cell_type": "code",
   "execution_count": 18,
   "id": "8b0f6def",
   "metadata": {},
   "outputs": [],
   "source": [
    "# метод покоординатного спуска\n",
    "def pokoord_spusk():\n",
    "    global x_fix, left, right, y_fix\n",
    "    it = 0\n",
    "    x_fix_0, y_fix_0 = x_fix, y_fix\n",
    "    koordinates_x_x = []\n",
    "    koordinates_y_x = []\n",
    "    koordinates_y__x = []\n",
    "    koordinates_y__y = []\n",
    "    x_fix_0, y_fix_0 = x_fix, y_fix\n",
    "    while True:\n",
    "        svenn(x_fix, y_fix, 0.1, 1)\n",
    "        x_fix = kvadr_interpol(left, right, 0.1, 1)\n",
    "        koordinates_x_x.append(x_fix)\n",
    "        koordinates_y_x.append(y_fix)\n",
    "        it += 1\n",
    "        x_fix_0 = x_fix\n",
    "        svenn(x_fix, y_fix, 1, 2)\n",
    "        y_fix = kvadr_interpol(left, right, 0.1, 2)\n",
    "        koordinates_y__x.append(x_fix)\n",
    "        koordinates_y__y.append(y_fix)\n",
    "        it += 1\n",
    "        y_fix_0 = y_fix\n",
    "        if abs(func(x_fix, y_fix) - func(x_fix_0, y_fix_0)) < eps:\n",
    "            break\n",
    "\n",
    "    print(f\"nPokoordinatniy spusk: kolichestvo iteratsiy={it}\")\n",
    "    print(f\"Minimum funktsii: {func(x_fix, y_fix)}\")\n",
    "    print(f\"Tochka min: x={x_fix} y={y_fix}\")"
   ]
  },
  {
   "cell_type": "code",
   "execution_count": 19,
   "id": "e814ff3c",
   "metadata": {},
   "outputs": [
    {
     "name": "stdout",
     "output_type": "stream",
     "text": [
      "0.9 1.1\n",
      "7.849999999999968 8.049999999999967\n",
      "Количество интераций = 0, 279\n",
      "(0.9, 1.1, 7.849999999999968, 8.049999999999967)\n"
     ]
    }
   ],
   "source": [
    "print(svenn(x_fix, y_fix, h))"
   ]
  },
  {
   "cell_type": "code",
   "execution_count": null,
   "id": "aa2e933e",
   "metadata": {},
   "outputs": [
    {
     "name": "stdout",
     "output_type": "stream",
     "text": [
      "0.9 1.1\n",
      "7.849999999999968 8.049999999999967\n",
      "Количество интераций = 0, 279\n"
     ]
    }
   ],
   "source": [
    "print(kvadr_interpol(h))"
   ]
  },
  {
   "cell_type": "code",
   "execution_count": null,
   "id": "b4ff102c",
   "metadata": {},
   "outputs": [],
   "source": [
    "print(pokoord_spusk())"
   ]
  }
 ],
 "metadata": {
  "kernelspec": {
   "display_name": "Python 3 (ipykernel)",
   "language": "python",
   "name": "python3"
  },
  "language_info": {
   "codemirror_mode": {
    "name": "ipython",
    "version": 3
   },
   "file_extension": ".py",
   "mimetype": "text/x-python",
   "name": "python",
   "nbconvert_exporter": "python",
   "pygments_lexer": "ipython3",
   "version": "3.9.13"
  }
 },
 "nbformat": 4,
 "nbformat_minor": 5
}
